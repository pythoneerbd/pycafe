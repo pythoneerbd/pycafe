{
 "cells": [
  {
   "cell_type": "code",
   "execution_count": 32,
   "id": "aae48f40",
   "metadata": {},
   "outputs": [
    {
     "name": "stdout",
     "output_type": "stream",
     "text": [
      "Enter your marks: pre\n"
     ]
    },
    {
     "data": {
      "text/plain": [
       "str"
      ]
     },
     "execution_count": 32,
     "metadata": {},
     "output_type": "execute_result"
    }
   ],
   "source": [
    "def grade(result):\n",
    "    try:\n",
    "        marks = float(result)\n",
    "        if marks >= 0.0 and marks <= 1.0:\n",
    "            if marks >= 0.9:\n",
    "                return 'A'\n",
    "            elif marks >= 0.8:\n",
    "                return 'B'\n",
    "            elif marks >= 0.7:\n",
    "                return 'C'\n",
    "            elif marks >= 0.6:\n",
    "                return 'D'\n",
    "            elif marks <= 0.6:\n",
    "                return 'F'\n",
    "            else:\n",
    "                return 'Bad score'\n",
    "        else:\n",
    "            return 'Bad score'\n",
    "    except:\n",
    "        return 'Bad score'\n",
    "        \n",
    "result = input(\"Enter your marks: \")\n",
    "grade(result)\n",
    "type(result)\n",
    "        "
   ]
  },
  {
   "cell_type": "code",
   "execution_count": 31,
   "id": "c3296ed3",
   "metadata": {},
   "outputs": [
    {
     "name": "stdout",
     "output_type": "stream",
     "text": [
      "Enter your marks: pre\n",
      "Bad score\n"
     ]
    },
    {
     "data": {
      "text/plain": [
       "str"
      ]
     },
     "execution_count": 31,
     "metadata": {},
     "output_type": "execute_result"
    }
   ],
   "source": [
    "def grade(result):\n",
    "    try:\n",
    "        marks = float(result)\n",
    "        if marks >= 0.0 and marks <= 1.0:\n",
    "            if marks >= 0.9:\n",
    "                print(\"A\")\n",
    "            elif marks >= 0.8:\n",
    "                print(\"B\")\n",
    "            elif marks >= 0.7:\n",
    "                print(\"C\")\n",
    "            elif marks >= 0.6:\n",
    "                print(\"D\")\n",
    "            elif marks <= 0.6:\n",
    "                print(\"F\")\n",
    "            else:\n",
    "                print(\"Bad score\")\n",
    "        else:\n",
    "            print(\"Bad score\")\n",
    "    except:\n",
    "        print(\"Bad score\") \n",
    "        \n",
    "result = input(\"Enter your marks: \")\n",
    "grade(result)\n",
    "type(result)"
   ]
  },
  {
   "cell_type": "code",
   "execution_count": 37,
   "id": "66bde690",
   "metadata": {},
   "outputs": [
    {
     "name": "stdout",
     "output_type": "stream",
     "text": [
      "Enter first number: 30\n",
      "select + - * // %: *\n",
      "Enter calculate number: 5\n",
      "150\n"
     ]
    }
   ],
   "source": [
    "def calculate(a,b):\n",
    "    if operator == '+':\n",
    "        added = a + b\n",
    "        return added\n",
    "    elif operator == '-':\n",
    "        subs = a - b\n",
    "        return subs\n",
    "    elif operator == '*':\n",
    "        multi = a * b\n",
    "        return multi\n",
    "    elif operator == '/':\n",
    "        divi = a / b\n",
    "        return divi\n",
    "    elif operator == '//':\n",
    "        floo = a // b\n",
    "        return floo\n",
    "    elif operator == '%':\n",
    "        modu = a % b\n",
    "        return modu\n",
    "    else:\n",
    "        print(\"please enter correct operator\")\n",
    "        \n",
    "a = int(input(\"Enter first number: \"))\n",
    "operator = str(input(\"select + - * // %: \"))\n",
    "b = int(input(\"Enter calculate number: \"))\n",
    "x = calculate(a, b)\n",
    "print(x)"
   ]
  },
  {
   "cell_type": "code",
   "execution_count": null,
   "id": "46cd12f1",
   "metadata": {},
   "outputs": [],
   "source": []
  }
 ],
 "metadata": {
  "kernelspec": {
   "display_name": "Python 3 (ipykernel)",
   "language": "python",
   "name": "python3"
  },
  "language_info": {
   "codemirror_mode": {
    "name": "ipython",
    "version": 3
   },
   "file_extension": ".py",
   "mimetype": "text/x-python",
   "name": "python",
   "nbconvert_exporter": "python",
   "pygments_lexer": "ipython3",
   "version": "3.9.7"
  }
 },
 "nbformat": 4,
 "nbformat_minor": 5
}
